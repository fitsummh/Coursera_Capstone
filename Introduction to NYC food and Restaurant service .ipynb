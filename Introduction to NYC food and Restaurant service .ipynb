{
 "cells": [
  {
   "cell_type": "markdown",
   "metadata": {},
   "source": [
    "## Exploring NYC neighbourghoods for Resturant and Food Services"
   ]
  },
  {
   "cell_type": "markdown",
   "metadata": {},
   "source": [
    "### 1. Introduction / Problem "
   ]
  },
  {
   "cell_type": "markdown",
   "metadata": {},
   "source": [
    "For the whole world the year 2007 to 2008 was known as the global financial crisis which unsurprisingly severely affected the restaurant industry in the United States. In mid 2008 **[A CNN Money report](https://money.cnn.com/2008/07/29/news/companies/restaurant_industry/index.htm?postversion=2008072919)** noted that the casual dining chains were taking a major hit as people turned to cheaper food alternatives. \n",
    "\n",
    "Unsurprisingly, this state of economic unrest severely affected the restaurant industry. A number of restaurant businesses filed for bankruptcy and closed their doors.  At the same time, the job market was just as bleak, with **[unemployment rates](https://data.bls.gov/timeseries/LNS14000000)** reaching up to 10% in the years following the Great Recession. After the economy bounced back it was reported increased US food sales year after year, with 2017 total retail and food services sales reaching 5.75 trillion in 2019.\n",
    "\n",
    "According to NRA (National Restaurants Association), as of 2017 there are over one million foods and restaurant service in the united states among these 26,697 were located in NYC. **[The resturant industry shows in increase of 62% between 2000 and 2015](https://www.citylab.com/life/2017/04/the-gentrification-of-gotham/524694/.)** \n",
    "\n",
    "The decision to open your own restaurant is an exciting one. You get to be your own boss and you do not have to worry about making money for anyone other than yourself. Being independent has its perks but it also has its costs-literally and figuratively. There are two ways that you can satisfy your dream, either you have to buy the existing restaurant or start a new restaurant. In either way one of the main challenging question is which neighborhood is best for which type of food and restaurant service type. \n",
    "\n",
    "The project try to quantify food related services in NYC neighbor hoods and cluster them in their similarity characteristics so that it helps to make informed decision to start new business in food and restaurant service\n",
    "\n",
    "\n",
    "\n"
   ]
  }
 ],
 "metadata": {
  "kernelspec": {
   "display_name": "Python 3",
   "language": "python",
   "name": "python3"
  },
  "language_info": {
   "codemirror_mode": {
    "name": "ipython",
    "version": 3
   },
   "file_extension": ".py",
   "mimetype": "text/x-python",
   "name": "python",
   "nbconvert_exporter": "python",
   "pygments_lexer": "ipython3",
   "version": "3.7.0"
  }
 },
 "nbformat": 4,
 "nbformat_minor": 2
}
